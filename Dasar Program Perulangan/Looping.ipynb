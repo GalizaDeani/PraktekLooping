{
 "cells": [
  {
   "cell_type": "code",
   "execution_count": 1,
   "id": "f66f4565",
   "metadata": {},
   "outputs": [
    {
     "name": "stdout",
     "output_type": "stream",
     "text": [
      "1\n",
      "2\n",
      "3\n",
      "4\n",
      "5\n",
      "6\n",
      "7\n",
      "8\n",
      "9\n",
      "10\n"
     ]
    }
   ],
   "source": [
    "# For in range\n",
    "# print 1 - 10\n",
    "\n",
    "for i in range(1,11):\n",
    "    print(i)\n",
    "    "
   ]
  },
  {
   "cell_type": "code",
   "execution_count": 5,
   "id": "a8f08fdd",
   "metadata": {},
   "outputs": [
    {
     "name": "stdout",
     "output_type": "stream",
     "text": [
      "10\n",
      "20\n",
      "30\n",
      "40\n",
      "50\n",
      "60\n",
      "70\n",
      "80\n",
      "90\n",
      "100\n"
     ]
    }
   ],
   "source": [
    "#print 10 20 30 40 50 ---100\n",
    "\n",
    "for i in range (1,11):\n",
    "    print(i*10)\n"
   ]
  },
  {
   "cell_type": "code",
   "execution_count": 7,
   "id": "a8af461f",
   "metadata": {},
   "outputs": [
    {
     "name": "stdout",
     "output_type": "stream",
     "text": [
      "10\n",
      "20\n",
      "30\n",
      "40\n",
      "50\n",
      "60\n",
      "70\n",
      "80\n",
      "90\n",
      "100\n"
     ]
    }
   ],
   "source": [
    "for i in range(10,110,10):\n",
    "    print(i)"
   ]
  },
  {
   "cell_type": "code",
   "execution_count": 9,
   "id": "3c33ebef",
   "metadata": {},
   "outputs": [
    {
     "name": "stdout",
     "output_type": "stream",
     "text": [
      "10\n",
      "9\n",
      "8\n",
      "7\n",
      "6\n",
      "5\n",
      "4\n",
      "3\n",
      "2\n",
      "1\n"
     ]
    }
   ],
   "source": [
    "# 10 9 8 7 ---1\n",
    "for i in range (10,0,-1):\n",
    "    print(i)"
   ]
  },
  {
   "cell_type": "code",
   "execution_count": 26,
   "id": "523a6d7b",
   "metadata": {},
   "outputs": [
    {
     "name": "stdout",
     "output_type": "stream",
     "text": [
      "1\n",
      "-2\n",
      "3\n",
      "-4\n",
      "5\n",
      "-6\n",
      "7\n",
      "-8\n",
      "9\n",
      "-10\n"
     ]
    }
   ],
   "source": [
    "# 1 -2 3 -4 5 -6 7 -8 9 -10\n",
    "sign = 1\n",
    "for i in range(1,11):\n",
    "    print(i * sign)\n",
    "    sign *= -1"
   ]
  },
  {
   "cell_type": "code",
   "execution_count": 32,
   "id": "7a3d7811",
   "metadata": {},
   "outputs": [
    {
     "name": "stdout",
     "output_type": "stream",
     "text": [
      "Isikan Bilangan:4\n",
      "Faktorial dari 4! adalah 24\n"
     ]
    }
   ],
   "source": [
    "# Faktorial => input 4! = 4 * 3 * 2 * 1 = 24\n",
    "number = int(input(\"Isikan Bilangan:\"))\n",
    "\n",
    "result = 1 \n",
    "for i in range(1, number+1):\n",
    "    result = result * i\n",
    "    \n",
    "print(f\"Faktorial dari {number}! adalah {result}\")\n",
    "    "
   ]
  },
  {
   "cell_type": "code",
   "execution_count": 35,
   "id": "42609f51",
   "metadata": {},
   "outputs": [
    {
     "name": "stdout",
     "output_type": "stream",
     "text": [
      "Isikan Bilangan:2\n",
      "Isikan Pangkat:3\n",
      " 2 pangkat 3 adalah 8\n"
     ]
    }
   ],
   "source": [
    "# Pangkat => input 2^3 = 2 * 2 * 2 = 8\n",
    "number = int(input(\"Isikan Bilangan:\"))\n",
    "pangkat = int(input(\"Isikan Pangkat:\"))\n",
    "\n",
    "result = 1\n",
    "for i in range(1, pangkat+1):\n",
    "    result = result * number\n",
    "print(f\" {number} pangkat {pangkat} adalah {result}\")\n",
    "    \n"
   ]
  },
  {
   "cell_type": "code",
   "execution_count": 37,
   "id": "a4947808",
   "metadata": {},
   "outputs": [
    {
     "name": "stdout",
     "output_type": "stream",
     "text": [
      "Isikan Bilangan:6\n",
      "Isikan Pangkat:2\n",
      " 6 pangkat 2 adalah 36\n"
     ]
    }
   ],
   "source": [
    "# Pangkat => input 2^3 = 2 * 2 * 2 = 8\n",
    "number = int(input(\"Isikan Bilangan:\"))\n",
    "pangkat = int(input(\"Isikan Pangkat:\"))\n",
    "\n",
    "result = 1\n",
    "for i in range(1, pangkat+1):\n",
    "    result = result * number\n",
    "print(f\" {number} pangkat {pangkat} adalah {result}\")\n",
    "    "
   ]
  },
  {
   "cell_type": "code",
   "execution_count": 50,
   "id": "de85811a",
   "metadata": {},
   "outputs": [
    {
     "name": "stdout",
     "output_type": "stream",
     "text": [
      "Isikan Bilangan:9\n",
      "9 adalah Bukan Bilangan Prima\n"
     ]
    }
   ],
   "source": [
    "# Cek Bilangan Prima\n",
    "# Bil. Prima adalah bilangan yang hanya bisa habis dibagi dengan bil itu \n",
    "#sendiri  dan 1\n",
    "\n",
    "# Bil. Prima punya 2 faktor\n",
    "# Jika number % i == 0 maka nilai faktor di increment (+1)\n",
    "# Setelah selesai perulangan, jika faktor == 2 maka bilangan prima\n",
    "number = int(input('Isikan Bilangan:'))\n",
    "faktor = 0 \n",
    "for i in range(1, number+1):\n",
    "    sisa = number % i\n",
    "    if number % i == 0:\n",
    "        faktor = faktor + 1\n",
    "if faktor == 2:\n",
    "    keterangan =\"Bilangan Prima\"\n",
    "else:\n",
    "    keterangan = \"Bukan Bilangan Prima\"\n",
    "print(f\"{number} adalah {keterangan}\")"
   ]
  },
  {
   "cell_type": "code",
   "execution_count": 54,
   "id": "3713c8a1",
   "metadata": {},
   "outputs": [
    {
     "name": "stdout",
     "output_type": "stream",
     "text": [
      "22\n",
      "U\n",
      "0 U\n",
      "1 n\n",
      "2 i\n",
      "3 v\n",
      "4 e\n",
      "5 r\n",
      "6 s\n",
      "7 i\n",
      "8 t\n",
      "9 a\n",
      "10 s\n",
      "11  \n",
      "12 N\n",
      "13 u\n",
      "14 s\n",
      "15 a\n",
      "16  \n",
      "17 P\n",
      "18 u\n",
      "19 t\n",
      "20 r\n",
      "21 a\n"
     ]
    }
   ],
   "source": [
    "kampus = \"Universitas Nusa Putra\" # panjang = 22\n",
    "print(len(kampus))\n",
    "print(kampus [0])\n",
    "for i, huruf in enumerate(kampus):\n",
    "    print(i,huruf)\n",
    "    \n"
   ]
  },
  {
   "cell_type": "code",
   "execution_count": 63,
   "id": "8025c2f0",
   "metadata": {},
   "outputs": [
    {
     "name": "stdout",
     "output_type": "stream",
     "text": [
      "Jumalh Huruf a: 3\n",
      "Jumlah Huruf i: 2\n",
      "Jumlah Huruf u: 3\n",
      "Jumlah Huruf e: 1\n",
      "Jumlah Huruf o: 0\n",
      "Jumlah huruf vokal:9\n"
     ]
    }
   ],
   "source": [
    "# Menghitung Jumlah Huruf Vokal a i u e o\n",
    "kampus = \"Universitas Nusa Putra\" # panjang = 22\n",
    "panjang = len(kampus)\n",
    "\n",
    "vokal_a = 0\n",
    "vokal_i = 0\n",
    "vokal_u = 0\n",
    "vokal_e = 0\n",
    "vokal_o = 0\n",
    "\n",
    "for i in range(0,panjang):\n",
    "    if kampus[i]=='a'or kampus [i]==\"A\":\n",
    "        vokal_a +=1\n",
    "    elif kampus[i]=='i'or kampus [i]==\"I\":\n",
    "        vokal_i +=1\n",
    "    elif kampus[i]=='u'or kampus [i]==\"U\":\n",
    "        vokal_u +=1\n",
    "    elif kampus[i]== 'e'or kampus [i]==\"E\":\n",
    "        vokal_e +=1\n",
    "    elif kampus[1]=='o' or kampus [i]==\"O\":\n",
    "        vokal_i +=1\n",
    "    \n",
    "print(f\"Jumalh Huruf a: {vokal_a}\")\n",
    "print(f\"Jumlah Huruf i: {vokal_i}\")\n",
    "print(f\"Jumlah Huruf u: {vokal_u}\")\n",
    "print(f\"Jumlah Huruf e: {vokal_e}\")\n",
    "print(f\"Jumlah Huruf o: {vokal_o}\")\n",
    "print(f\"Jumlah huruf vokal:{vokal_a+vokal_i+vokal_u+vokal_e+vokal_o}\")"
   ]
  },
  {
   "cell_type": "code",
   "execution_count": null,
   "id": "560df3d5",
   "metadata": {},
   "outputs": [
    {
     "name": "stdout",
     "output_type": "stream",
     "text": [
      "Isikan Kalimat:AKA\n",
      "AKA adalah Palindrome\n"
     ]
    }
   ],
   "source": [
    "ulang = \"Y\"\n",
    "while(ulang==\"Y\" or ulang== \"Y\"):\n",
    "    kalimat = input(\"Isikan Kalimat:\")\n",
    "    panjang_kalimat = len(kalimat)\n",
    "\n",
    "# AKU => UKA\n",
    "# Mengecek kalimat palindrome atau bukan\n",
    "# Palindrome ==> kalimat yang dibaca dari kiri ke kanan\n",
    "# kanan > kekiri itu sama\n",
    "# katak => palindrome\n",
    "# kasur rusak => palindrome\n",
    "    isPalindrome = True\n",
    "    for i in range(0,panjang_kalimat):\n",
    "        urut = kalimat [i]\n",
    "        kebalikan= kalimat [panjang_kalimat - i-1]\n",
    "        if urut != kebalikan:\n",
    "            isPalindrome = False\n",
    "            break\n",
    "    if isPalindrome== True:\n",
    "        print(f\"{kalimat} adalah Palindrome\")\n",
    "    else:\n",
    "        print(f\"{kalimat} adalah Bukan Palindrome\")\n",
    "    ulang = input(\"Apakah Mau Mengulang Program: Y/T\")"
   ]
  },
  {
   "cell_type": "code",
   "execution_count": 89,
   "id": "610582ec",
   "metadata": {},
   "outputs": [
    {
     "name": "stdout",
     "output_type": "stream",
     "text": [
      "i: 1 dan j : 1\n",
      "i: 1 dan j : 2\n",
      "i: 1 dan j : 3\n",
      "i: 1 dan j : 4\n",
      "i: 2 dan j : 1\n",
      "i: 2 dan j : 2\n",
      "i: 2 dan j : 3\n",
      "i: 2 dan j : 4\n",
      "i: 3 dan j : 1\n",
      "i: 3 dan j : 2\n",
      "i: 3 dan j : 3\n",
      "i: 3 dan j : 4\n",
      "i: 4 dan j : 1\n",
      "i: 4 dan j : 2\n",
      "i: 4 dan j : 3\n",
      "i: 4 dan j : 4\n"
     ]
    }
   ],
   "source": [
    "# Nested For \n",
    "\n",
    "for i in range(1,5):\n",
    "    for j in range(1,5):\n",
    "        print(f\"i: {i} dan j : {j}\")\n",
    "        "
   ]
  },
  {
   "cell_type": "code",
   "execution_count": null,
   "id": "3145fd57",
   "metadata": {},
   "outputs": [],
   "source": []
  }
 ],
 "metadata": {
  "kernelspec": {
   "display_name": "Python 3 (ipykernel)",
   "language": "python",
   "name": "python3"
  },
  "language_info": {
   "codemirror_mode": {
    "name": "ipython",
    "version": 3
   },
   "file_extension": ".py",
   "mimetype": "text/x-python",
   "name": "python",
   "nbconvert_exporter": "python",
   "pygments_lexer": "ipython3",
   "version": "3.9.12"
  }
 },
 "nbformat": 4,
 "nbformat_minor": 5
}
